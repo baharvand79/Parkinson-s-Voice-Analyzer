{
  "cells": [
    {
      "cell_type": "markdown",
      "metadata": {
        "id": "view-in-github",
        "colab_type": "text"
      },
      "source": [
        "<a href=\"https://colab.research.google.com/github/baharvand79/Parkinson-s-Voice-Analyzer/blob/main/pretrain_cnn_inception.ipynb\" target=\"_parent\"><img src=\"https://colab.research.google.com/assets/colab-badge.svg\" alt=\"Open In Colab\"/></a>"
      ]
    },
    {
      "cell_type": "code",
      "execution_count": null,
      "metadata": {
        "colab": {
          "base_uri": "https://localhost:8080/"
        },
        "id": "ZOAF8tXQQd0_",
        "outputId": "fac27b2e-e71f-46b7-d3f8-b919499f960f"
      },
      "outputs": [
        {
          "name": "stdout",
          "output_type": "stream",
          "text": [
            "Checking for required packages...\n",
            "pandas is already installed.\n",
            "numpy is already installed.\n",
            "tensorflow is already installed.\n",
            "sklearn is already installed.\n",
            "matplotlib is already installed.\n",
            "\n",
            "All dependencies are satisfied. Starting the main script...\n",
            "\n"
          ]
        }
      ],
      "source": [
        "# ==============================================================================\n",
        "#  AUTOMATIC DEPENDENCY INSTALLER\n",
        "# ==============================================================================\n",
        "import subprocess\n",
        "import sys\n",
        "import importlib\n",
        "\n",
        "# A dictionary of packages to check, mapping the import name to the pip package name\n",
        "packages = {\n",
        "    'pandas': 'pandas',\n",
        "    'numpy': 'numpy',\n",
        "    'tensorflow': 'tensorflow',\n",
        "    'sklearn': 'scikit-learn',\n",
        "    'matplotlib': 'matplotlib'\n",
        "}\n",
        "\n",
        "print(\"Checking for required packages...\")\n",
        "\n",
        "for import_name, pip_name in packages.items():\n",
        "    try:\n",
        "        # Try to import the package\n",
        "        importlib.import_module(import_name)\n",
        "        print(f\"{import_name} is already installed.\")\n",
        "    except ImportError:\n",
        "        # If it fails, install it using pip\n",
        "        print(f\"{import_name} not found. Installing...\")\n",
        "        try:\n",
        "            subprocess.check_call([sys.executable, \"-m\", \"pip\", \"install\", pip_name])\n",
        "            print(f\"Successfully installed {pip_name}.\")\n",
        "        except subprocess.CalledProcessError as e:\n",
        "            print(f\"Failed to install {pip_name}. Error: {e}\")\n",
        "            # Exit if a critical package fails to install\n",
        "            sys.exit(1)\n",
        "\n",
        "print(\"\\nAll dependencies are satisfied. Starting the main script...\\n\")"
      ]
    },
    {
      "cell_type": "code",
      "execution_count": null,
      "metadata": {
        "id": "wQ4G3SKdZKxv"
      },
      "outputs": [],
      "source": [
        "# ==============================================================================\n",
        "#  IMPORTING DEPENDENCIES\n",
        "# ==============================================================================\n",
        "import pandas as pd\n",
        "import numpy as np\n",
        "import tensorflow as tf\n",
        "import timeit\n",
        "import datetime\n",
        "import math\n",
        "import os # Often useful for path handling\n",
        "from matplotlib import pyplot as plt\n",
        "\n",
        "# Keras imports from the tensorflow.keras path\n",
        "from tensorflow.keras.models import Sequential, Model\n",
        "from tensorflow.keras.layers import Activation, Dense, Dropout, Flatten, BatchNormalization, Conv2D, MaxPooling2D, Input\n",
        "from tensorflow.keras.optimizers import Adam\n",
        "from tensorflow.keras.preprocessing.image import ImageDataGenerator\n",
        "from tensorflow.keras.callbacks import EarlyStopping\n",
        "from tensorflow.keras.applications.inception_v3 import InceptionV3\n",
        "\n",
        "# Scikit-learn imports\n",
        "from sklearn import metrics\n",
        "from sklearn.metrics import classification_report, confusion_matrix, roc_curve, roc_auc_score"
      ]
    },
    {
      "cell_type": "code",
      "execution_count": null,
      "metadata": {
        "colab": {
          "base_uri": "https://localhost:8080/"
        },
        "id": "FkG-izH8ZyDk",
        "outputId": "f842d892-7606-4d63-dbe6-2fe11074ae4b"
      },
      "outputs": [
        {
          "name": "stdout",
          "output_type": "stream",
          "text": [
            "Mounted at /content/drive\n"
          ]
        }
      ],
      "source": [
        "from google.colab import drive\n",
        "\n",
        "# === 1. ENVIRONMENT SETUP ===\n",
        "# Mount Google Drive\n",
        "drive.mount('/content/drive')\n"
      ]
    },
    {
      "cell_type": "code",
      "execution_count": null,
      "metadata": {
        "colab": {
          "background_save": true,
          "base_uri": "https://localhost:8080/"
        },
        "id": "XNP0JoxeZOVy",
        "outputId": "73a6a77d-66a4-4c39-860e-fe9c59b3e4dd"
      },
      "outputs": [
        {
          "name": "stdout",
          "output_type": "stream",
          "text": [
            "Input data will be read from: /content/drive/MyDrive/Scripts/pretrained_cnn/spectrogram_data/UAMS_linear\n",
            "All outputs will be saved to: /content/drive/MyDrive/Scripts/pretrained_cnn/training_output/UAMS_linear_output\n"
          ]
        }
      ],
      "source": [
        "# === 2. CONFIGURATION ===\n",
        "# --- Main Paths ---\n",
        "GDRIVE_BASE_PATH = '/content/drive/MyDrive/Scripts/pretrained_cnn' # CHANGE to your project's base folder on Drive\n",
        "DATASET_NAME = \"UAMS\"\n",
        "SPECTROGRAM_TYPE = \"linear\" # Change to \"mel\" to use mel-spectrograms\n",
        "\n",
        "# --- Auto-generated Paths ---\n",
        "# Path to the input spectrogram images\n",
        "INPUT_DATA_PATH = os.path.join(GDRIVE_BASE_PATH, 'spectrogram_data', f'{DATASET_NAME}_{SPECTROGRAM_TYPE}')\n",
        "# Path where all outputs (models, logs, plots) will be saved\n",
        "OUTPUT_DIR = os.path.join(GDRIVE_BASE_PATH, 'training_output', f'{DATASET_NAME}_{SPECTROGRAM_TYPE}_output')\n",
        "\n",
        "# --- Hyperparameters ---\n",
        "IMG_ROWS = 600\n",
        "IMG_COLS = 600\n",
        "BATCH_SIZE = 4\n",
        "EPOCHS = 10\n",
        "N_RUNS = 10 # Set to 100 for full experiment\n",
        "\n",
        "# --- Create output directory if it doesn't exist ---\n",
        "os.makedirs(OUTPUT_DIR, exist_ok=True)\n",
        "print(f\"Input data will be read from: {INPUT_DATA_PATH}\")\n",
        "print(f\"All outputs will be saved to: {OUTPUT_DIR}\")\n",
        "\n",
        "\n"
      ]
    },
    {
      "cell_type": "code",
      "execution_count": null,
      "metadata": {
        "colab": {
          "background_save": true
        },
        "id": "CPrCjfS-dEDK",
        "outputId": "bdc1abd3-fc6a-4046-a084-cb158fda53b3"
      },
      "outputs": [
        {
          "name": "stdout",
          "output_type": "stream",
          "text": [
            "Found 57 images belonging to 2 classes.\n",
            "Found 24 images belonging to 2 classes.\n"
          ]
        }
      ],
      "source": [
        "\n",
        "# === 3. DATA GENERATORS ===\n",
        "# Note: Using validation_split requires specifying subset='training' or 'validation'\n",
        "data_generator = ImageDataGenerator(\n",
        "    rescale=1. / 255,\n",
        "    fill_mode='nearest',\n",
        "    validation_split=0.3  # Splitting data into 70% training, 30% validation\n",
        ")\n",
        "\n",
        "train_generator = data_generator.flow_from_directory(\n",
        "    INPUT_DATA_PATH,\n",
        "    target_size=(IMG_ROWS, IMG_COLS),\n",
        "    batch_size=BATCH_SIZE,\n",
        "    class_mode='categorical',\n",
        "    shuffle=True,\n",
        "    subset='training' # Set as training data\n",
        ")\n",
        "\n",
        "validation_generator = data_generator.flow_from_directory(\n",
        "    INPUT_DATA_PATH,\n",
        "    target_size=(IMG_ROWS, IMG_COLS),\n",
        "    batch_size=BATCH_SIZE,\n",
        "    class_mode='categorical',\n",
        "    shuffle=False, # Important: Do not shuffle validation data\n",
        "    subset='validation' # Set as validation data\n",
        ")\n"
      ]
    },
    {
      "cell_type": "code",
      "execution_count": null,
      "metadata": {
        "colab": {
          "background_save": true,
          "base_uri": "https://localhost:8080/",
          "height": 330
        },
        "id": "lMK--vN_aTS1",
        "outputId": "415674f0-c3e2-4808-8967-45e90675cfd3"
      },
      "outputs": [
        {
          "name": "stdout",
          "output_type": "stream",
          "text": [
            "--------------------------------------------------\n",
            "Starting Run: 1/10\n",
            "--------------------------------------------------\n",
            "Epoch 1/10\n"
          ]
        },
        {
          "name": "stderr",
          "output_type": "stream",
          "text": [
            "/usr/local/lib/python3.11/dist-packages/keras/src/trainers/data_adapters/py_dataset_adapter.py:121: UserWarning: Your `PyDataset` class should call `super().__init__(**kwargs)` in its constructor. `**kwargs` can include `workers`, `use_multiprocessing`, `max_queue_size`. Do not pass these arguments to `fit()`, as they will be ignored.\n",
            "  self._warn_if_super_not_called()\n",
            "WARNING:absl:You are saving your model as an HDF5 file via `model.save()` or `keras.saving.save_model(model)`. This file format is considered legacy. We recommend using instead the native Keras format, e.g. `model.save('my_model.keras')` or `keras.saving.save_model(model, 'my_model.keras')`. \n"
          ]
        },
        {
          "name": "stdout",
          "output_type": "stream",
          "text": [
            "14/14 - 65s - 5s/step - accuracy: 0.3962 - loss: 2.5413 - val_accuracy: 0.5833 - val_loss: 0.9682\n",
            "Epoch 2/10\n"
          ]
        },
        {
          "name": "stderr",
          "output_type": "stream",
          "text": [
            "/usr/local/lib/python3.11/dist-packages/keras/src/trainers/epoch_iterator.py:107: UserWarning: Your input ran out of data; interrupting training. Make sure that your dataset or generator can generate at least `steps_per_epoch * epochs` batches. You may need to use the `.repeat()` function when building your dataset.\n",
            "  self._interrupted_warning()\n"
          ]
        },
        {
          "name": "stdout",
          "output_type": "stream",
          "text": [
            "14/14 - 23s - 2s/step - accuracy: 0.2500 - loss: 2.4306 - val_accuracy: 0.5833 - val_loss: 1.0092\n",
            "Epoch 3/10\n",
            "14/14 - 55s - 4s/step - accuracy: 0.7547 - loss: 1.6398 - val_accuracy: 0.3750 - val_loss: 0.8465\n",
            "Epoch 4/10\n",
            "14/14 - 18s - 1s/step - accuracy: 0.5000 - loss: 1.4413 - val_accuracy: 0.3750 - val_loss: 0.8961\n",
            "Epoch 5/10\n",
            "14/14 - 49s - 4s/step - accuracy: 0.7547 - loss: 1.1482 - val_accuracy: 0.5833 - val_loss: 0.9108\n",
            "Epoch 6/10\n",
            "14/14 - 18s - 1s/step - accuracy: 0.7500 - loss: 0.2875 - val_accuracy: 0.5833 - val_loss: 0.9591\n",
            "Epoch 7/10\n"
          ]
        },
        {
          "name": "stderr",
          "output_type": "stream",
          "text": [
            "WARNING:absl:You are saving your model as an HDF5 file via `model.save()` or `keras.saving.save_model(model)`. This file format is considered legacy. We recommend using instead the native Keras format, e.g. `model.save('my_model.keras')` or `keras.saving.save_model(model, 'my_model.keras')`. \n"
          ]
        },
        {
          "name": "stdout",
          "output_type": "stream",
          "text": [
            "14/14 - 72s - 5s/step - accuracy: 0.8491 - loss: 0.6180 - val_accuracy: 0.7083 - val_loss: 0.5643\n",
            "Epoch 8/10\n",
            "14/14 - 22s - 2s/step - accuracy: 0.7500 - loss: 0.4269 - val_accuracy: 0.7083 - val_loss: 0.5149\n",
            "Epoch 9/10\n"
          ]
        },
        {
          "name": "stderr",
          "output_type": "stream",
          "text": [
            "WARNING:absl:You are saving your model as an HDF5 file via `model.save()` or `keras.saving.save_model(model)`. This file format is considered legacy. We recommend using instead the native Keras format, e.g. `model.save('my_model.keras')` or `keras.saving.save_model(model, 'my_model.keras')`. \n"
          ]
        },
        {
          "name": "stdout",
          "output_type": "stream",
          "text": [
            "14/14 - 56s - 4s/step - accuracy: 0.8679 - loss: 0.9425 - val_accuracy: 0.7500 - val_loss: 0.5481\n",
            "Epoch 10/10\n",
            "14/14 - 19s - 1s/step - accuracy: 1.0000 - loss: 0.1170 - val_accuracy: 0.7083 - val_loss: 0.5782\n"
          ]
        },
        {
          "name": "stderr",
          "output_type": "stream",
          "text": [
            "WARNING:absl:Compiled the loaded model, but the compiled metrics have yet to be built. `model.compile_metrics` will be empty until you train or evaluate the model.\n"
          ]
        },
        {
          "name": "stdout",
          "output_type": "stream",
          "text": [
            "\u001b[1m6/6\u001b[0m \u001b[32m━━━━━━━━━━━━━━━━━━━━\u001b[0m\u001b[37m\u001b[0m \u001b[1m17s\u001b[0m 3s/step\n",
            "\n",
            "Run 1 AUC: 0.7500\n",
            "--------------------------------------------------\n",
            "Starting Run: 2/10\n",
            "--------------------------------------------------\n",
            "Epoch 1/10\n"
          ]
        },
        {
          "name": "stderr",
          "output_type": "stream",
          "text": [
            "WARNING:absl:You are saving your model as an HDF5 file via `model.save()` or `keras.saving.save_model(model)`. This file format is considered legacy. We recommend using instead the native Keras format, e.g. `model.save('my_model.keras')` or `keras.saving.save_model(model, 'my_model.keras')`. \n"
          ]
        },
        {
          "name": "stdout",
          "output_type": "stream",
          "text": [
            "14/14 - 60s - 4s/step - accuracy: 0.5472 - loss: 2.6601 - val_accuracy: 0.5417 - val_loss: 1.8992\n",
            "Epoch 2/10\n"
          ]
        },
        {
          "name": "stderr",
          "output_type": "stream",
          "text": [
            "/usr/local/lib/python3.11/dist-packages/keras/src/trainers/epoch_iterator.py:107: UserWarning: Your input ran out of data; interrupting training. Make sure that your dataset or generator can generate at least `steps_per_epoch * epochs` batches. You may need to use the `.repeat()` function when building your dataset.\n",
            "  self._interrupted_warning()\n"
          ]
        },
        {
          "name": "stdout",
          "output_type": "stream",
          "text": [
            "14/14 - 18s - 1s/step - accuracy: 0.2500 - loss: 6.3328 - val_accuracy: 0.5417 - val_loss: 1.5265\n",
            "Epoch 3/10\n",
            "14/14 - 49s - 4s/step - accuracy: 0.6981 - loss: 2.0011 - val_accuracy: 0.5000 - val_loss: 1.1769\n",
            "Epoch 4/10\n",
            "14/14 - 18s - 1s/step - accuracy: 0.5000 - loss: 3.7023 - val_accuracy: 0.5000 - val_loss: 1.2147\n",
            "Epoch 5/10\n",
            "14/14 - 49s - 4s/step - accuracy: 0.8113 - loss: 0.9127 - val_accuracy: 0.3750 - val_loss: 1.1894\n",
            "Epoch 6/10\n",
            "14/14 - 17s - 1s/step - accuracy: 0.7500 - loss: 1.0547 - val_accuracy: 0.3750 - val_loss: 1.1434\n",
            "Epoch 7/10\n"
          ]
        },
        {
          "name": "stderr",
          "output_type": "stream",
          "text": [
            "WARNING:absl:You are saving your model as an HDF5 file via `model.save()` or `keras.saving.save_model(model)`. This file format is considered legacy. We recommend using instead the native Keras format, e.g. `model.save('my_model.keras')` or `keras.saving.save_model(model, 'my_model.keras')`. \n"
          ]
        },
        {
          "name": "stdout",
          "output_type": "stream",
          "text": [
            "14/14 - 67s - 5s/step - accuracy: 0.7547 - loss: 0.8655 - val_accuracy: 0.7083 - val_loss: 0.6286\n",
            "Epoch 8/10\n",
            "14/14 - 19s - 1s/step - accuracy: 1.0000 - loss: 9.9418e-04 - val_accuracy: 0.6667 - val_loss: 0.7248\n",
            "Epoch 9/10\n",
            "14/14 - 49s - 4s/step - accuracy: 0.8113 - loss: 1.3205 - val_accuracy: 0.3333 - val_loss: 1.3592\n",
            "Epoch 10/10\n",
            "14/14 - 18s - 1s/step - accuracy: 0.7500 - loss: 1.0218 - val_accuracy: 0.3750 - val_loss: 1.5312\n"
          ]
        },
        {
          "name": "stderr",
          "output_type": "stream",
          "text": [
            "WARNING:absl:Compiled the loaded model, but the compiled metrics have yet to be built. `model.compile_metrics` will be empty until you train or evaluate the model.\n"
          ]
        },
        {
          "name": "stdout",
          "output_type": "stream",
          "text": [
            "\u001b[1m6/6\u001b[0m \u001b[32m━━━━━━━━━━━━━━━━━━━━\u001b[0m\u001b[37m\u001b[0m \u001b[1m17s\u001b[0m 3s/step\n",
            "\n",
            "Run 2 AUC: 0.7083\n",
            "--------------------------------------------------\n",
            "Starting Run: 3/10\n",
            "--------------------------------------------------\n",
            "Epoch 1/10\n"
          ]
        },
        {
          "name": "stderr",
          "output_type": "stream",
          "text": [
            "WARNING:absl:You are saving your model as an HDF5 file via `model.save()` or `keras.saving.save_model(model)`. This file format is considered legacy. We recommend using instead the native Keras format, e.g. `model.save('my_model.keras')` or `keras.saving.save_model(model, 'my_model.keras')`. \n"
          ]
        },
        {
          "name": "stdout",
          "output_type": "stream",
          "text": [
            "14/14 - 59s - 4s/step - accuracy: 0.6226 - loss: 2.0962 - val_accuracy: 0.5000 - val_loss: 1.7162\n",
            "Epoch 2/10\n"
          ]
        },
        {
          "name": "stderr",
          "output_type": "stream",
          "text": [
            "/usr/local/lib/python3.11/dist-packages/keras/src/trainers/epoch_iterator.py:107: UserWarning: Your input ran out of data; interrupting training. Make sure that your dataset or generator can generate at least `steps_per_epoch * epochs` batches. You may need to use the `.repeat()` function when building your dataset.\n",
            "  self._interrupted_warning()\n"
          ]
        },
        {
          "name": "stdout",
          "output_type": "stream",
          "text": [
            "14/14 - 18s - 1s/step - accuracy: 0.7500 - loss: 0.2823 - val_accuracy: 0.5000 - val_loss: 2.3021\n",
            "Epoch 3/10\n"
          ]
        },
        {
          "name": "stderr",
          "output_type": "stream",
          "text": [
            "WARNING:absl:You are saving your model as an HDF5 file via `model.save()` or `keras.saving.save_model(model)`. This file format is considered legacy. We recommend using instead the native Keras format, e.g. `model.save('my_model.keras')` or `keras.saving.save_model(model, 'my_model.keras')`. \n"
          ]
        },
        {
          "name": "stdout",
          "output_type": "stream",
          "text": [
            "14/14 - 65s - 5s/step - accuracy: 0.7736 - loss: 1.9671 - val_accuracy: 0.6250 - val_loss: 0.9862\n",
            "Epoch 4/10\n",
            "14/14 - 19s - 1s/step - accuracy: 0.7500 - loss: 0.2776 - val_accuracy: 0.5417 - val_loss: 1.4556\n",
            "Epoch 5/10\n",
            "14/14 - 50s - 4s/step - accuracy: 0.6792 - loss: 2.1220 - val_accuracy: 0.5000 - val_loss: 2.2728\n",
            "Epoch 6/10\n",
            "14/14 - 18s - 1s/step - accuracy: 0.5000 - loss: 3.9496 - val_accuracy: 0.5000 - val_loss: 2.0329\n",
            "Epoch 7/10\n",
            "14/14 - 64s - 5s/step - accuracy: 0.8302 - loss: 1.3415 - val_accuracy: 0.5833 - val_loss: 0.7919\n",
            "Epoch 8/10\n",
            "14/14 - 18s - 1s/step - accuracy: 0.7500 - loss: 0.2337 - val_accuracy: 0.5833 - val_loss: 0.8015\n",
            "Epoch 9/10\n"
          ]
        },
        {
          "name": "stderr",
          "output_type": "stream",
          "text": [
            "WARNING:absl:You are saving your model as an HDF5 file via `model.save()` or `keras.saving.save_model(model)`. This file format is considered legacy. We recommend using instead the native Keras format, e.g. `model.save('my_model.keras')` or `keras.saving.save_model(model, 'my_model.keras')`. \n"
          ]
        },
        {
          "name": "stdout",
          "output_type": "stream",
          "text": [
            "14/14 - 67s - 5s/step - accuracy: 0.8868 - loss: 1.1058 - val_accuracy: 0.7083 - val_loss: 0.9955\n",
            "Epoch 10/10\n",
            "14/14 - 19s - 1s/step - accuracy: 0.7500 - loss: 1.6989 - val_accuracy: 0.7083 - val_loss: 0.8880\n"
          ]
        },
        {
          "name": "stderr",
          "output_type": "stream",
          "text": [
            "WARNING:absl:Compiled the loaded model, but the compiled metrics have yet to be built. `model.compile_metrics` will be empty until you train or evaluate the model.\n"
          ]
        },
        {
          "name": "stdout",
          "output_type": "stream",
          "text": [
            "\u001b[1m6/6\u001b[0m \u001b[32m━━━━━━━━━━━━━━━━━━━━\u001b[0m\u001b[37m\u001b[0m \u001b[1m17s\u001b[0m 3s/step\n",
            "\n",
            "Run 3 AUC: 0.7083\n",
            "--------------------------------------------------\n",
            "Starting Run: 4/10\n",
            "--------------------------------------------------\n",
            "Epoch 1/10\n"
          ]
        },
        {
          "name": "stderr",
          "output_type": "stream",
          "text": [
            "WARNING:absl:You are saving your model as an HDF5 file via `model.save()` or `keras.saving.save_model(model)`. This file format is considered legacy. We recommend using instead the native Keras format, e.g. `model.save('my_model.keras')` or `keras.saving.save_model(model, 'my_model.keras')`. \n"
          ]
        },
        {
          "name": "stdout",
          "output_type": "stream",
          "text": [
            "14/14 - 60s - 4s/step - accuracy: 0.6604 - loss: 2.1860 - val_accuracy: 0.5833 - val_loss: 0.9867\n",
            "Epoch 2/10\n"
          ]
        },
        {
          "name": "stderr",
          "output_type": "stream",
          "text": [
            "/usr/local/lib/python3.11/dist-packages/keras/src/trainers/epoch_iterator.py:107: UserWarning: Your input ran out of data; interrupting training. Make sure that your dataset or generator can generate at least `steps_per_epoch * epochs` batches. You may need to use the `.repeat()` function when building your dataset.\n",
            "  self._interrupted_warning()\n"
          ]
        },
        {
          "name": "stdout",
          "output_type": "stream",
          "text": [
            "14/14 - 18s - 1s/step - accuracy: 0.7500 - loss: 0.3988 - val_accuracy: 0.5417 - val_loss: 1.0796\n",
            "Epoch 3/10\n"
          ]
        },
        {
          "name": "stderr",
          "output_type": "stream",
          "text": [
            "WARNING:absl:You are saving your model as an HDF5 file via `model.save()` or `keras.saving.save_model(model)`. This file format is considered legacy. We recommend using instead the native Keras format, e.g. `model.save('my_model.keras')` or `keras.saving.save_model(model, 'my_model.keras')`. \n"
          ]
        },
        {
          "name": "stdout",
          "output_type": "stream",
          "text": [
            "14/14 - 52s - 4s/step - accuracy: 0.6226 - loss: 2.4032 - val_accuracy: 0.6250 - val_loss: 0.5806\n",
            "Epoch 4/10\n"
          ]
        },
        {
          "name": "stderr",
          "output_type": "stream",
          "text": [
            "WARNING:absl:You are saving your model as an HDF5 file via `model.save()` or `keras.saving.save_model(model)`. This file format is considered legacy. We recommend using instead the native Keras format, e.g. `model.save('my_model.keras')` or `keras.saving.save_model(model, 'my_model.keras')`. \n"
          ]
        },
        {
          "name": "stdout",
          "output_type": "stream",
          "text": [
            "14/14 - 26s - 2s/step - accuracy: 1.0000 - loss: 0.0323 - val_accuracy: 0.6667 - val_loss: 0.5733\n",
            "Epoch 5/10\n",
            "14/14 - 54s - 4s/step - accuracy: 0.6981 - loss: 1.8247 - val_accuracy: 0.5833 - val_loss: 0.8536\n",
            "Epoch 6/10\n",
            "14/14 - 17s - 1s/step - accuracy: 0.7500 - loss: 1.2613 - val_accuracy: 0.6250 - val_loss: 0.8020\n",
            "Epoch 7/10\n",
            "14/14 - 66s - 5s/step - accuracy: 0.8571 - loss: 1.8730 - val_accuracy: 0.5833 - val_loss: 1.1298\n",
            "Epoch 8/10\n",
            "14/14 - 16s - 1s/step - accuracy: 1.0000 - loss: 0.6432 - val_accuracy: 0.5833 - val_loss: 0.9913\n",
            "Epoch 9/10\n",
            "14/14 - 49s - 4s/step - accuracy: 0.7736 - loss: 1.0745 - val_accuracy: 0.6250 - val_loss: 1.2786\n",
            "Epoch 10/10\n",
            "14/14 - 18s - 1s/step - accuracy: 1.0000 - loss: 0.0105 - val_accuracy: 0.6250 - val_loss: 1.2670\n"
          ]
        },
        {
          "name": "stderr",
          "output_type": "stream",
          "text": [
            "WARNING:absl:Compiled the loaded model, but the compiled metrics have yet to be built. `model.compile_metrics` will be empty until you train or evaluate the model.\n"
          ]
        },
        {
          "name": "stdout",
          "output_type": "stream",
          "text": [
            "\u001b[1m6/6\u001b[0m \u001b[32m━━━━━━━━━━━━━━━━━━━━\u001b[0m\u001b[37m\u001b[0m \u001b[1m17s\u001b[0m 3s/step\n",
            "\n",
            "Run 4 AUC: 0.6667\n",
            "--------------------------------------------------\n",
            "Starting Run: 5/10\n",
            "--------------------------------------------------\n",
            "Epoch 1/10\n"
          ]
        },
        {
          "name": "stderr",
          "output_type": "stream",
          "text": [
            "WARNING:absl:You are saving your model as an HDF5 file via `model.save()` or `keras.saving.save_model(model)`. This file format is considered legacy. We recommend using instead the native Keras format, e.g. `model.save('my_model.keras')` or `keras.saving.save_model(model, 'my_model.keras')`. \n"
          ]
        },
        {
          "name": "stdout",
          "output_type": "stream",
          "text": [
            "14/14 - 63s - 5s/step - accuracy: 0.5472 - loss: 2.2282 - val_accuracy: 0.7500 - val_loss: 0.5141\n",
            "Epoch 2/10\n"
          ]
        },
        {
          "name": "stderr",
          "output_type": "stream",
          "text": [
            "/usr/local/lib/python3.11/dist-packages/keras/src/trainers/epoch_iterator.py:107: UserWarning: Your input ran out of data; interrupting training. Make sure that your dataset or generator can generate at least `steps_per_epoch * epochs` batches. You may need to use the `.repeat()` function when building your dataset.\n",
            "  self._interrupted_warning()\n"
          ]
        },
        {
          "name": "stdout",
          "output_type": "stream",
          "text": [
            "14/14 - 23s - 2s/step - accuracy: 0.5000 - loss: 2.1342 - val_accuracy: 0.7500 - val_loss: 0.6022\n",
            "Epoch 3/10\n",
            "14/14 - 51s - 4s/step - accuracy: 0.7925 - loss: 1.0432 - val_accuracy: 0.5417 - val_loss: 1.1799\n",
            "Epoch 4/10\n",
            "14/14 - 23s - 2s/step - accuracy: 0.5000 - loss: 3.3427 - val_accuracy: 0.5000 - val_loss: 1.3292\n",
            "Epoch 5/10\n",
            "14/14 - 49s - 4s/step - accuracy: 0.7547 - loss: 1.3044 - val_accuracy: 0.5417 - val_loss: 1.0462\n",
            "Epoch 6/10\n",
            "14/14 - 17s - 1s/step - accuracy: 0.2500 - loss: 3.3078 - val_accuracy: 0.5417 - val_loss: 1.0066\n",
            "Epoch 7/10\n"
          ]
        },
        {
          "name": "stderr",
          "output_type": "stream",
          "text": [
            "WARNING:absl:You are saving your model as an HDF5 file via `model.save()` or `keras.saving.save_model(model)`. This file format is considered legacy. We recommend using instead the native Keras format, e.g. `model.save('my_model.keras')` or `keras.saving.save_model(model, 'my_model.keras')`. \n"
          ]
        },
        {
          "name": "stdout",
          "output_type": "stream",
          "text": [
            "14/14 - 52s - 4s/step - accuracy: 0.7925 - loss: 0.8454 - val_accuracy: 0.7917 - val_loss: 0.4424\n",
            "Epoch 8/10\n",
            "14/14 - 19s - 1s/step - accuracy: 1.0000 - loss: 0.0013 - val_accuracy: 0.7917 - val_loss: 0.4278\n",
            "Epoch 9/10\n",
            "14/14 - 60s - 4s/step - accuracy: 0.8868 - loss: 0.4614 - val_accuracy: 0.6667 - val_loss: 0.6575\n",
            "Epoch 10/10\n",
            "14/14 - 23s - 2s/step - accuracy: 0.7500 - loss: 0.4297 - val_accuracy: 0.6667 - val_loss: 0.7631\n"
          ]
        },
        {
          "name": "stderr",
          "output_type": "stream",
          "text": [
            "WARNING:absl:Compiled the loaded model, but the compiled metrics have yet to be built. `model.compile_metrics` will be empty until you train or evaluate the model.\n"
          ]
        },
        {
          "name": "stdout",
          "output_type": "stream",
          "text": [
            "\u001b[1m6/6\u001b[0m \u001b[32m━━━━━━━━━━━━━━━━━━━━\u001b[0m\u001b[37m\u001b[0m \u001b[1m19s\u001b[0m 3s/step\n",
            "\n",
            "Run 5 AUC: 0.7917\n",
            "--------------------------------------------------\n",
            "Starting Run: 6/10\n",
            "--------------------------------------------------\n",
            "Epoch 1/10\n"
          ]
        },
        {
          "name": "stderr",
          "output_type": "stream",
          "text": [
            "WARNING:absl:You are saving your model as an HDF5 file via `model.save()` or `keras.saving.save_model(model)`. This file format is considered legacy. We recommend using instead the native Keras format, e.g. `model.save('my_model.keras')` or `keras.saving.save_model(model, 'my_model.keras')`. \n"
          ]
        },
        {
          "name": "stdout",
          "output_type": "stream",
          "text": [
            "14/14 - 60s - 4s/step - accuracy: 0.5283 - loss: 1.8896 - val_accuracy: 0.5000 - val_loss: 0.9013\n",
            "Epoch 2/10\n"
          ]
        },
        {
          "name": "stderr",
          "output_type": "stream",
          "text": [
            "/usr/local/lib/python3.11/dist-packages/keras/src/trainers/epoch_iterator.py:107: UserWarning: Your input ran out of data; interrupting training. Make sure that your dataset or generator can generate at least `steps_per_epoch * epochs` batches. You may need to use the `.repeat()` function when building your dataset.\n",
            "  self._interrupted_warning()\n"
          ]
        },
        {
          "name": "stdout",
          "output_type": "stream",
          "text": [
            "14/14 - 19s - 1s/step - accuracy: 1.0000 - loss: 0.0912 - val_accuracy: 0.5000 - val_loss: 1.1318\n",
            "Epoch 3/10\n",
            "14/14 - 59s - 4s/step - accuracy: 0.8302 - loss: 1.2255 - val_accuracy: 0.5000 - val_loss: 1.9920\n",
            "Epoch 4/10\n"
          ]
        },
        {
          "name": "stderr",
          "output_type": "stream",
          "text": [
            "WARNING:absl:You are saving your model as an HDF5 file via `model.save()` or `keras.saving.save_model(model)`. This file format is considered legacy. We recommend using instead the native Keras format, e.g. `model.save('my_model.keras')` or `keras.saving.save_model(model, 'my_model.keras')`. \n"
          ]
        },
        {
          "name": "stdout",
          "output_type": "stream",
          "text": [
            "14/14 - 26s - 2s/step - accuracy: 0.2500 - loss: 7.0092 - val_accuracy: 0.5833 - val_loss: 1.5415\n",
            "Epoch 5/10\n"
          ]
        },
        {
          "name": "stderr",
          "output_type": "stream",
          "text": [
            "WARNING:absl:You are saving your model as an HDF5 file via `model.save()` or `keras.saving.save_model(model)`. This file format is considered legacy. We recommend using instead the native Keras format, e.g. `model.save('my_model.keras')` or `keras.saving.save_model(model, 'my_model.keras')`. \n"
          ]
        },
        {
          "name": "stdout",
          "output_type": "stream",
          "text": [
            "14/14 - 53s - 4s/step - accuracy: 0.8113 - loss: 1.6781 - val_accuracy: 0.7500 - val_loss: 0.5318\n",
            "Epoch 6/10\n",
            "14/14 - 19s - 1s/step - accuracy: 0.7500 - loss: 0.1915 - val_accuracy: 0.6667 - val_loss: 0.6039\n",
            "Epoch 7/10\n",
            "14/14 - 51s - 4s/step - accuracy: 0.7500 - loss: 1.8241 - val_accuracy: 0.5000 - val_loss: 1.0196\n",
            "Epoch 8/10\n",
            "14/14 - 16s - 1s/step - accuracy: 0.0000e+00 - loss: 0.6968 - val_accuracy: 0.5417 - val_loss: 0.8608\n",
            "Epoch 9/10\n",
            "14/14 - 49s - 4s/step - accuracy: 0.8491 - loss: 0.6635 - val_accuracy: 0.7500 - val_loss: 0.6476\n",
            "Epoch 10/10\n",
            "14/14 - 18s - 1s/step - accuracy: 1.0000 - loss: 1.0364e-04 - val_accuracy: 0.7083 - val_loss: 0.6011\n"
          ]
        },
        {
          "name": "stderr",
          "output_type": "stream",
          "text": [
            "WARNING:absl:Compiled the loaded model, but the compiled metrics have yet to be built. `model.compile_metrics` will be empty until you train or evaluate the model.\n"
          ]
        },
        {
          "name": "stdout",
          "output_type": "stream",
          "text": [
            "\u001b[1m6/6\u001b[0m \u001b[32m━━━━━━━━━━━━━━━━━━━━\u001b[0m\u001b[37m\u001b[0m \u001b[1m16s\u001b[0m 3s/step\n",
            "\n",
            "Run 6 AUC: 0.7500\n",
            "--------------------------------------------------\n",
            "Starting Run: 7/10\n",
            "--------------------------------------------------\n",
            "Epoch 1/10\n"
          ]
        },
        {
          "name": "stderr",
          "output_type": "stream",
          "text": [
            "WARNING:absl:You are saving your model as an HDF5 file via `model.save()` or `keras.saving.save_model(model)`. This file format is considered legacy. We recommend using instead the native Keras format, e.g. `model.save('my_model.keras')` or `keras.saving.save_model(model, 'my_model.keras')`. \n"
          ]
        },
        {
          "name": "stdout",
          "output_type": "stream",
          "text": [
            "14/14 - 60s - 4s/step - accuracy: 0.5849 - loss: 3.4992 - val_accuracy: 0.5000 - val_loss: 1.7175\n",
            "Epoch 2/10\n"
          ]
        },
        {
          "name": "stderr",
          "output_type": "stream",
          "text": [
            "/usr/local/lib/python3.11/dist-packages/keras/src/trainers/epoch_iterator.py:107: UserWarning: Your input ran out of data; interrupting training. Make sure that your dataset or generator can generate at least `steps_per_epoch * epochs` batches. You may need to use the `.repeat()` function when building your dataset.\n",
            "  self._interrupted_warning()\n"
          ]
        },
        {
          "name": "stdout",
          "output_type": "stream",
          "text": [
            "14/14 - 23s - 2s/step - accuracy: 0.5000 - loss: 4.6709 - val_accuracy: 0.5000 - val_loss: 1.3740\n",
            "Epoch 3/10\n"
          ]
        },
        {
          "name": "stderr",
          "output_type": "stream",
          "text": [
            "WARNING:absl:You are saving your model as an HDF5 file via `model.save()` or `keras.saving.save_model(model)`. This file format is considered legacy. We recommend using instead the native Keras format, e.g. `model.save('my_model.keras')` or `keras.saving.save_model(model, 'my_model.keras')`. \n"
          ]
        },
        {
          "name": "stdout",
          "output_type": "stream",
          "text": [
            "14/14 - 64s - 5s/step - accuracy: 0.7358 - loss: 1.5035 - val_accuracy: 0.6667 - val_loss: 0.6166\n",
            "Epoch 4/10\n"
          ]
        },
        {
          "name": "stderr",
          "output_type": "stream",
          "text": [
            "WARNING:absl:You are saving your model as an HDF5 file via `model.save()` or `keras.saving.save_model(model)`. This file format is considered legacy. We recommend using instead the native Keras format, e.g. `model.save('my_model.keras')` or `keras.saving.save_model(model, 'my_model.keras')`. \n"
          ]
        },
        {
          "name": "stdout",
          "output_type": "stream",
          "text": [
            "14/14 - 22s - 2s/step - accuracy: 0.7500 - loss: 0.9582 - val_accuracy: 0.7917 - val_loss: 0.5349\n",
            "Epoch 5/10\n"
          ]
        },
        {
          "name": "stderr",
          "output_type": "stream",
          "text": [
            "WARNING:absl:You are saving your model as an HDF5 file via `model.save()` or `keras.saving.save_model(model)`. This file format is considered legacy. We recommend using instead the native Keras format, e.g. `model.save('my_model.keras')` or `keras.saving.save_model(model, 'my_model.keras')`. \n"
          ]
        },
        {
          "name": "stdout",
          "output_type": "stream",
          "text": [
            "14/14 - 57s - 4s/step - accuracy: 0.8302 - loss: 0.4409 - val_accuracy: 0.8333 - val_loss: 0.5351\n",
            "Epoch 6/10\n",
            "14/14 - 19s - 1s/step - accuracy: 0.7500 - loss: 1.2055 - val_accuracy: 0.8333 - val_loss: 0.5062\n",
            "Epoch 7/10\n",
            "14/14 - 50s - 4s/step - accuracy: 0.8868 - loss: 0.7262 - val_accuracy: 0.7500 - val_loss: 0.5019\n",
            "Epoch 8/10\n",
            "14/14 - 18s - 1s/step - accuracy: 0.7500 - loss: 2.9600 - val_accuracy: 0.7500 - val_loss: 0.5656\n",
            "Epoch 9/10\n",
            "14/14 - 70s - 5s/step - accuracy: 0.8302 - loss: 1.0045 - val_accuracy: 0.7083 - val_loss: 0.7402\n",
            "Epoch 10/10\n",
            "14/14 - 19s - 1s/step - accuracy: 1.0000 - loss: 0.1611 - val_accuracy: 0.7083 - val_loss: 0.7081\n"
          ]
        },
        {
          "name": "stderr",
          "output_type": "stream",
          "text": [
            "WARNING:absl:Compiled the loaded model, but the compiled metrics have yet to be built. `model.compile_metrics` will be empty until you train or evaluate the model.\n"
          ]
        },
        {
          "name": "stdout",
          "output_type": "stream",
          "text": [
            "\u001b[1m6/6\u001b[0m \u001b[32m━━━━━━━━━━━━━━━━━━━━\u001b[0m\u001b[37m\u001b[0m \u001b[1m16s\u001b[0m 3s/step\n",
            "\n",
            "Run 7 AUC: 0.8333\n",
            "--------------------------------------------------\n",
            "Starting Run: 8/10\n",
            "--------------------------------------------------\n",
            "Epoch 1/10\n"
          ]
        },
        {
          "name": "stderr",
          "output_type": "stream",
          "text": [
            "WARNING:absl:You are saving your model as an HDF5 file via `model.save()` or `keras.saving.save_model(model)`. This file format is considered legacy. We recommend using instead the native Keras format, e.g. `model.save('my_model.keras')` or `keras.saving.save_model(model, 'my_model.keras')`. \n"
          ]
        },
        {
          "name": "stdout",
          "output_type": "stream",
          "text": [
            "14/14 - 62s - 4s/step - accuracy: 0.5179 - loss: 2.0623 - val_accuracy: 0.5000 - val_loss: 1.1044\n",
            "Epoch 2/10\n"
          ]
        },
        {
          "name": "stderr",
          "output_type": "stream",
          "text": [
            "/usr/local/lib/python3.11/dist-packages/keras/src/trainers/epoch_iterator.py:107: UserWarning: Your input ran out of data; interrupting training. Make sure that your dataset or generator can generate at least `steps_per_epoch * epochs` batches. You may need to use the `.repeat()` function when building your dataset.\n",
            "  self._interrupted_warning()\n",
            "WARNING:absl:You are saving your model as an HDF5 file via `model.save()` or `keras.saving.save_model(model)`. This file format is considered legacy. We recommend using instead the native Keras format, e.g. `model.save('my_model.keras')` or `keras.saving.save_model(model, 'my_model.keras')`. \n"
          ]
        },
        {
          "name": "stdout",
          "output_type": "stream",
          "text": [
            "14/14 - 19s - 1s/step - accuracy: 0.0000e+00 - loss: 0.6983 - val_accuracy: 0.5417 - val_loss: 1.1905\n",
            "Epoch 3/10\n",
            "14/14 - 59s - 4s/step - accuracy: 0.7358 - loss: 2.0650 - val_accuracy: 0.4167 - val_loss: 1.4476\n",
            "Epoch 4/10\n",
            "14/14 - 18s - 1s/step - accuracy: 0.7500 - loss: 0.2907 - val_accuracy: 0.5000 - val_loss: 1.0552\n",
            "Epoch 5/10\n"
          ]
        },
        {
          "name": "stderr",
          "output_type": "stream",
          "text": [
            "WARNING:absl:You are saving your model as an HDF5 file via `model.save()` or `keras.saving.save_model(model)`. This file format is considered legacy. We recommend using instead the native Keras format, e.g. `model.save('my_model.keras')` or `keras.saving.save_model(model, 'my_model.keras')`. \n"
          ]
        },
        {
          "name": "stdout",
          "output_type": "stream",
          "text": [
            "14/14 - 52s - 4s/step - accuracy: 0.6604 - loss: 1.8168 - val_accuracy: 0.7083 - val_loss: 0.8533\n",
            "Epoch 6/10\n",
            "14/14 - 19s - 1s/step - accuracy: 1.0000 - loss: 3.3168e-05 - val_accuracy: 0.6250 - val_loss: 0.9204\n",
            "Epoch 7/10\n",
            "14/14 - 50s - 4s/step - accuracy: 0.8302 - loss: 0.5412 - val_accuracy: 0.5833 - val_loss: 1.6143\n",
            "Epoch 8/10\n",
            "14/14 - 18s - 1s/step - accuracy: 0.7500 - loss: 2.2749 - val_accuracy: 0.6250 - val_loss: 1.3847\n",
            "Epoch 9/10\n",
            "14/14 - 49s - 4s/step - accuracy: 0.8679 - loss: 1.0126 - val_accuracy: 0.5833 - val_loss: 1.0528\n",
            "Epoch 10/10\n",
            "14/14 - 21s - 1s/step - accuracy: 1.0000 - loss: 0.0119 - val_accuracy: 0.5833 - val_loss: 1.0169\n"
          ]
        },
        {
          "name": "stderr",
          "output_type": "stream",
          "text": [
            "WARNING:absl:Compiled the loaded model, but the compiled metrics have yet to be built. `model.compile_metrics` will be empty until you train or evaluate the model.\n"
          ]
        },
        {
          "name": "stdout",
          "output_type": "stream",
          "text": [
            "\u001b[1m6/6\u001b[0m \u001b[32m━━━━━━━━━━━━━━━━━━━━\u001b[0m\u001b[37m\u001b[0m \u001b[1m17s\u001b[0m 3s/step\n",
            "\n",
            "Run 8 AUC: 0.7083\n",
            "--------------------------------------------------\n",
            "Starting Run: 9/10\n",
            "--------------------------------------------------\n",
            "Epoch 1/10\n"
          ]
        },
        {
          "name": "stderr",
          "output_type": "stream",
          "text": [
            "WARNING:absl:You are saving your model as an HDF5 file via `model.save()` or `keras.saving.save_model(model)`. This file format is considered legacy. We recommend using instead the native Keras format, e.g. `model.save('my_model.keras')` or `keras.saving.save_model(model, 'my_model.keras')`. \n"
          ]
        },
        {
          "name": "stdout",
          "output_type": "stream",
          "text": [
            "14/14 - 60s - 4s/step - accuracy: 0.5849 - loss: 3.0185 - val_accuracy: 0.7083 - val_loss: 0.5182\n",
            "Epoch 2/10\n"
          ]
        },
        {
          "name": "stderr",
          "output_type": "stream",
          "text": [
            "/usr/local/lib/python3.11/dist-packages/keras/src/trainers/epoch_iterator.py:107: UserWarning: Your input ran out of data; interrupting training. Make sure that your dataset or generator can generate at least `steps_per_epoch * epochs` batches. You may need to use the `.repeat()` function when building your dataset.\n",
            "  self._interrupted_warning()\n"
          ]
        },
        {
          "name": "stdout",
          "output_type": "stream",
          "text": [
            "14/14 - 18s - 1s/step - accuracy: 0.5000 - loss: 2.7671 - val_accuracy: 0.5000 - val_loss: 0.8765\n",
            "Epoch 3/10\n"
          ]
        },
        {
          "name": "stderr",
          "output_type": "stream",
          "text": [
            "WARNING:absl:You are saving your model as an HDF5 file via `model.save()` or `keras.saving.save_model(model)`. This file format is considered legacy. We recommend using instead the native Keras format, e.g. `model.save('my_model.keras')` or `keras.saving.save_model(model, 'my_model.keras')`. \n"
          ]
        },
        {
          "name": "stdout",
          "output_type": "stream",
          "text": [
            "14/14 - 52s - 4s/step - accuracy: 0.6792 - loss: 2.3380 - val_accuracy: 0.8333 - val_loss: 0.4312\n",
            "Epoch 4/10\n",
            "14/14 - 19s - 1s/step - accuracy: 0.5000 - loss: 1.3249 - val_accuracy: 0.7917 - val_loss: 0.4530\n",
            "Epoch 5/10\n",
            "14/14 - 49s - 4s/step - accuracy: 0.7547 - loss: 1.2168 - val_accuracy: 0.7500 - val_loss: 0.4822\n",
            "Epoch 6/10\n",
            "14/14 - 17s - 1s/step - accuracy: 0.2500 - loss: 3.1195 - val_accuracy: 0.7500 - val_loss: 0.4406\n",
            "Epoch 7/10\n",
            "14/14 - 49s - 4s/step - accuracy: 0.8491 - loss: 0.8651 - val_accuracy: 0.8333 - val_loss: 0.4013\n",
            "Epoch 8/10\n",
            "14/14 - 18s - 1s/step - accuracy: 1.0000 - loss: 9.5337e-04 - val_accuracy: 0.7917 - val_loss: 0.4056\n",
            "Epoch 9/10\n",
            "14/14 - 49s - 4s/step - accuracy: 0.8113 - loss: 0.7166 - val_accuracy: 0.6250 - val_loss: 1.4106\n",
            "Epoch 10/10\n",
            "14/14 - 17s - 1s/step - accuracy: 0.7500 - loss: 0.4085 - val_accuracy: 0.6250 - val_loss: 1.5392\n"
          ]
        },
        {
          "name": "stderr",
          "output_type": "stream",
          "text": [
            "WARNING:absl:Compiled the loaded model, but the compiled metrics have yet to be built. `model.compile_metrics` will be empty until you train or evaluate the model.\n"
          ]
        },
        {
          "name": "stdout",
          "output_type": "stream",
          "text": [
            "\u001b[1m6/6\u001b[0m \u001b[32m━━━━━━━━━━━━━━━━━━━━\u001b[0m\u001b[37m\u001b[0m \u001b[1m16s\u001b[0m 3s/step\n",
            "\n",
            "Run 9 AUC: 0.8333\n",
            "--------------------------------------------------\n",
            "Starting Run: 10/10\n",
            "--------------------------------------------------\n",
            "Epoch 1/10\n"
          ]
        },
        {
          "name": "stderr",
          "output_type": "stream",
          "text": [
            "WARNING:absl:You are saving your model as an HDF5 file via `model.save()` or `keras.saving.save_model(model)`. This file format is considered legacy. We recommend using instead the native Keras format, e.g. `model.save('my_model.keras')` or `keras.saving.save_model(model, 'my_model.keras')`. \n"
          ]
        },
        {
          "name": "stdout",
          "output_type": "stream",
          "text": [
            "14/14 - 59s - 4s/step - accuracy: 0.4528 - loss: 2.1696 - val_accuracy: 0.5833 - val_loss: 0.6513\n",
            "Epoch 2/10\n"
          ]
        },
        {
          "name": "stderr",
          "output_type": "stream",
          "text": [
            "/usr/local/lib/python3.11/dist-packages/keras/src/trainers/epoch_iterator.py:107: UserWarning: Your input ran out of data; interrupting training. Make sure that your dataset or generator can generate at least `steps_per_epoch * epochs` batches. You may need to use the `.repeat()` function when building your dataset.\n",
            "  self._interrupted_warning()\n",
            "WARNING:absl:You are saving your model as an HDF5 file via `model.save()` or `keras.saving.save_model(model)`. This file format is considered legacy. We recommend using instead the native Keras format, e.g. `model.save('my_model.keras')` or `keras.saving.save_model(model, 'my_model.keras')`. \n"
          ]
        },
        {
          "name": "stdout",
          "output_type": "stream",
          "text": [
            "14/14 - 21s - 1s/step - accuracy: 0.5000 - loss: 2.2345 - val_accuracy: 0.6250 - val_loss: 0.6752\n",
            "Epoch 3/10\n"
          ]
        },
        {
          "name": "stderr",
          "output_type": "stream",
          "text": [
            "WARNING:absl:You are saving your model as an HDF5 file via `model.save()` or `keras.saving.save_model(model)`. This file format is considered legacy. We recommend using instead the native Keras format, e.g. `model.save('my_model.keras')` or `keras.saving.save_model(model, 'my_model.keras')`. \n"
          ]
        },
        {
          "name": "stdout",
          "output_type": "stream",
          "text": [
            "14/14 - 61s - 4s/step - accuracy: 0.7170 - loss: 2.4953 - val_accuracy: 0.6667 - val_loss: 0.6171\n",
            "Epoch 4/10\n",
            "14/14 - 23s - 2s/step - accuracy: 0.5000 - loss: 2.5452 - val_accuracy: 0.6667 - val_loss: 0.6710\n",
            "Epoch 5/10\n",
            "14/14 - 56s - 4s/step - accuracy: 0.8302 - loss: 1.6351 - val_accuracy: 0.4167 - val_loss: 1.1563\n",
            "Epoch 6/10\n",
            "14/14 - 18s - 1s/step - accuracy: 0.7500 - loss: 0.4068 - val_accuracy: 0.4583 - val_loss: 1.0417\n",
            "Epoch 7/10\n",
            "14/14 - 50s - 4s/step - accuracy: 0.7358 - loss: 0.9602 - val_accuracy: 0.5833 - val_loss: 0.5715\n",
            "Epoch 8/10\n",
            "14/14 - 23s - 2s/step - accuracy: 0.5000 - loss: 1.0056 - val_accuracy: 0.5833 - val_loss: 0.5999\n",
            "Epoch 9/10\n",
            "14/14 - 59s - 4s/step - accuracy: 0.9057 - loss: 0.2929 - val_accuracy: 0.4167 - val_loss: 1.0727\n",
            "Epoch 10/10\n",
            "14/14 - 18s - 1s/step - accuracy: 1.0000 - loss: 2.3089e-04 - val_accuracy: 0.4167 - val_loss: 1.0126\n"
          ]
        },
        {
          "name": "stderr",
          "output_type": "stream",
          "text": [
            "WARNING:absl:Compiled the loaded model, but the compiled metrics have yet to be built. `model.compile_metrics` will be empty until you train or evaluate the model.\n"
          ]
        },
        {
          "name": "stdout",
          "output_type": "stream",
          "text": [
            "\u001b[1m6/6\u001b[0m \u001b[32m━━━━━━━━━━━━━━━━━━━━\u001b[0m\u001b[37m\u001b[0m \u001b[1m18s\u001b[0m 3s/step\n",
            "\n",
            "Run 10 AUC: 0.6667\n"
          ]
        }
      ],
      "source": [
        "# === 4. TRAINING LOOP ===\n",
        "start_time = timeit.default_timer()\n",
        "all_aucs = []\n",
        "best_run_auc = -1\n",
        "best_run_info = {}\n",
        "\n",
        "for run in range(N_RUNS):\n",
        "    print(\"-\" * 50)\n",
        "    print(f\"Starting Run: {run + 1}/{N_RUNS}\")\n",
        "    print(\"-\" * 50)\n",
        "\n",
        "    # --- Build the Model (re-initialized each run) ---\n",
        "    base_model = InceptionV3(weights='imagenet', include_top=False, input_shape=(IMG_ROWS, IMG_COLS, 3), pooling='avg')\n",
        "    for layer in base_model.layers:\n",
        "        layer.trainable = False\n",
        "\n",
        "    x = base_model.output\n",
        "    x = BatchNormalization()(x)\n",
        "    x = Dense(1024, activation='relu')(x)\n",
        "    x = Dense(1024, activation='relu')(x)\n",
        "    x = Dropout(0.2)(x)\n",
        "    predictions = Dense(2, activation='softmax')(x) # Use softmax for categorical_crossentropy\n",
        "\n",
        "    model = Model(inputs=base_model.input, outputs=predictions)\n",
        "    model.compile(\n",
        "        loss='categorical_crossentropy',\n",
        "        optimizer=Adam(learning_rate=0.001),\n",
        "        metrics=['accuracy']\n",
        "    )\n",
        "\n",
        "    # --- Callbacks ---\n",
        "    checkpoint_path = os.path.join(OUTPUT_DIR, f\"{DATASET_NAME}_{SPECTROGRAM_TYPE}_run-{run+1:02d}_best_model.h5\")\n",
        "    model_checkpoint = tf.keras.callbacks.ModelCheckpoint(\n",
        "        filepath=checkpoint_path,\n",
        "        save_best_only=True,\n",
        "        save_weights_only=False,\n",
        "        monitor='val_accuracy', # Monitor validation accuracy\n",
        "        mode='max'\n",
        "    )\n",
        "\n",
        "    # --- Train the Model ---\n",
        "    history = model.fit(\n",
        "        train_generator,\n",
        "        steps_per_epoch=train_generator.samples // BATCH_SIZE,\n",
        "        epochs=EPOCHS,\n",
        "        validation_data=validation_generator,\n",
        "        validation_steps=validation_generator.samples // BATCH_SIZE,\n",
        "        callbacks=[model_checkpoint],\n",
        "        verbose=2\n",
        "    )\n",
        "\n",
        "    # --- Evaluation for the current run ---\n",
        "    # Load the best model from this run for evaluation\n",
        "    best_model_this_run = tf.keras.models.load_model(checkpoint_path)\n",
        "    Y_pred = best_model_this_run.predict(validation_generator)\n",
        "    y_pred_classes = np.argmax(Y_pred, axis=1)\n",
        "\n",
        "    fpr, tpr, _ = roc_curve(validation_generator.classes, y_pred_classes)\n",
        "    run_auc = auc(fpr, tpr)\n",
        "    all_aucs.append(run_auc)\n",
        "    print(f\"\\nRun {run + 1} AUC: {run_auc:.4f}\")\n",
        "\n",
        "    # --- Track the best run overall ---\n",
        "    if run_auc > best_run_auc:\n",
        "        best_run_auc = run_auc\n",
        "        best_run_info = {\n",
        "            'run_number': run + 1,\n",
        "            'model_path': checkpoint_path,\n",
        "            'y_pred': Y_pred,\n",
        "            'fpr': fpr,\n",
        "            'tpr': tpr\n",
        "        }"
      ]
    },
    {
      "cell_type": "code",
      "execution_count": null,
      "metadata": {
        "id": "BEdgDs4Na8A0"
      },
      "outputs": [],
      "source": [
        "\n",
        "# === 5. FINAL REPORTING ===\n",
        "print(\"\\n\" + \"=\" * 50)\n",
        "print(\"Training Complete. Generating Final Report.\")\n",
        "print(\"=\" * 50)\n",
        "\n",
        "# --- Overall Performance ---\n",
        "avg_auc = np.mean(all_aucs)\n",
        "std_auc = np.std(all_aucs)\n",
        "print(f\"Average AUC over {N_RUNS} runs: {avg_auc:.4f} (std: {std_auc:.4f})\")\n",
        "print(f\"Best run was Run #{best_run_info['run_number']} with AUC: {best_run_auc:.4f}\")\n",
        "\n",
        "# --- Load the best model from the best run ---\n",
        "print(f\"Loading best overall model from: {best_run_info['model_path']}\")\n",
        "best_overall_model = tf.keras.models.load_model(best_run_info['model_path'])\n",
        "\n",
        "# --- Confusion Matrix and Classification Report ---\n",
        "y_pred_best = np.argmax(best_run_info['y_pred'], axis=1)\n",
        "report_str = \"--- Confusion Matrix ---\\n\"\n",
        "report_str += str(confusion_matrix(validation_generator.classes, y_pred_best))\n",
        "report_str += \"\\n\\n--- Classification Report ---\\n\"\n",
        "target_names = list(train_generator.class_indices.keys())\n",
        "report_str += classification_report(validation_generator.classes, y_pred_best, target_names=target_names)\n",
        "\n",
        "print(report_str)\n",
        "\n",
        "# --- Save the Final Report to a File ---\n",
        "report_path = os.path.join(OUTPUT_DIR, \"final_classification_report.txt\")\n",
        "with open(report_path, \"w\") as f:\n",
        "    f.write(f\"Final Report for {DATASET_NAME} - {SPECTROGRAM_TYPE}\\n\\n\")\n",
        "    f.write(f\"Average AUC over {N_RUNS} runs: {avg_auc:.4f} (std: {std_auc:.4f})\\n\")\n",
        "    f.write(f\"Best run was Run #{best_run_info['run_number']} with AUC: {best_run_auc:.4f}\\n\\n\")\n",
        "    f.write(report_str)\n",
        "print(f\"Final report saved to: {report_path}\")\n",
        "\n",
        "# --- Plot and Save ROC Curve for the Best Run ---\n",
        "plt.figure(figsize=(8, 6))\n",
        "plt.plot(best_run_info['fpr'], best_run_info['tpr'], color='darkorange', lw=2,\n",
        "         label=f'ROC curve (area = {best_run_auc:.2f})')\n",
        "plt.plot([0, 1], [0, 1], color='navy', lw=2, linestyle='--')\n",
        "plt.xlim([0.0, 1.0])\n",
        "plt.ylim([0.0, 1.05])\n",
        "plt.xlabel('False Positive Rate')\n",
        "plt.ylabel('True Positive Rate')\n",
        "plt.title(f'Receiver Operating Characteristic (Best Run) - {DATASET_NAME} {SPECTROGRAM_TYPE}')\n",
        "plt.legend(loc=\"lower right\")\n",
        "roc_plot_path = os.path.join(OUTPUT_DIR, \"best_run_ROC_curve.png\")\n",
        "plt.savefig(roc_plot_path)\n",
        "plt.show()\n",
        "print(f\"ROC curve plot saved to: {roc_plot_path}\")\n",
        "\n",
        "# --- Record Runtime ---\n",
        "stop_time = timeit.default_timer()\n",
        "print(f\"\\nTotal RunTime: {round(stop_time - start_time, 2)} Seconds\")"
      ]
    }
  ],
  "metadata": {
    "colab": {
      "provenance": [],
      "authorship_tag": "ABX9TyOzQc0lJ7+WiEwVrxH8xX+S",
      "include_colab_link": true
    },
    "kernelspec": {
      "display_name": "Python 3",
      "name": "python3"
    },
    "language_info": {
      "name": "python"
    }
  },
  "nbformat": 4,
  "nbformat_minor": 0
}